{
 "cells": [
  {
   "cell_type": "code",
   "execution_count": null,
   "id": "ebcc8b54-04f2-43fa-9bcf-84c6872c3dd2",
   "metadata": {},
   "outputs": [
    {
     "name": "stdout",
     "output_type": "stream",
     "text": [
      "1\n",
      "2\n",
      "3\n",
      "4\n",
      "5\n",
      "6\n"
     ]
    }
   ],
   "source": [
    "#Q1. Explain with an example each when to use a for loop and a while loop.\n",
    "\"\"\"\n",
    "- The main difference between a for loop and a while loop is in how they control the execution of the loop. In for loop the code\n",
    "keeps running until the last variable is executed in the datatype. \n",
    "\n",
    "for eg\n",
    "\"\"\"\n",
    "\n",
    "FL = [1,2,3,4,5,6]\n",
    "for i in FL:\n",
    "    print(i)\n"
   ]
  },
  {
   "cell_type": "code",
   "execution_count": 11,
   "id": "a5fca271-270e-4ea9-9b2b-8a7d370158c7",
   "metadata": {},
   "outputs": [
    {
     "name": "stdout",
     "output_type": "stream",
     "text": [
      "0\n",
      "1\n",
      "2\n",
      "3\n"
     ]
    }
   ],
   "source": [
    "\"\"\"\n",
    "-In while loop the code keeps running until it meet the condition given in the block of code. \n",
    "The loop continues to execute as long as the condition is true.\n",
    "\n",
    "for eg\n",
    "\"\"\"\n",
    "\n",
    "count = 0\n",
    "\n",
    "while count <=3:\n",
    "    print(count)\n",
    "    count = count + 1"
   ]
  },
  {
   "cell_type": "code",
   "execution_count": 2,
   "id": "8bde21a6-e30f-4d59-84f2-7e8896590a16",
   "metadata": {},
   "outputs": [
    {
     "name": "stdout",
     "output_type": "stream",
     "text": [
      "The result for product is 3628800\n",
      "The result for sum is 55\n"
     ]
    }
   ],
   "source": [
    "#Q2. Write a python program to print the sum and product of the first 10 natural numbers using for and while loop.\n",
    "\n",
    "\"\"\"\n",
    "Steps required to write this code using for and while loop\n",
    "step 1 : Produce a set of data which contains 0-10 as natural numbers\n",
    "step 2 : Write a condition where these NN are added and multiplied with each other in the list.\n",
    "\"\"\"\n",
    "\n",
    "#Using for loop for multiplication\n",
    "\n",
    "NN = [1,2,3,4,5,6,7,8,9,10]\n",
    "\n",
    "result = 1\n",
    "for i in NN:\n",
    "    result = result * i\n",
    "print('The result for product is', result)\n",
    "\n",
    "\n",
    "#Using for loop for addition\n",
    "\n",
    "NN = [1,2,3,4,5,6,7,8,9,10]\n",
    "result = 0 \n",
    "\n",
    "for i in NN:\n",
    "    result = result + i\n",
    "print('The result for sum is', result)\n",
    "\n"
   ]
  },
  {
   "cell_type": "code",
   "execution_count": 3,
   "id": "12f86fb2-e10b-47d3-918e-3dcce5ad915f",
   "metadata": {},
   "outputs": [
    {
     "name": "stdout",
     "output_type": "stream",
     "text": [
      "The result for sum is 55\n",
      "The result for sum is 3628800\n"
     ]
    }
   ],
   "source": [
    "#Using while loop for sum\n",
    "\n",
    "NN = [1,2,3,4,5,6,7,8,9,10]   \n",
    "result = 0                    # initialize a variable to hold the sum\n",
    "i = 0                         # initialize an index variable\n",
    "\n",
    "while i < len(NN):            # while the index is less than the length of the list...\n",
    "    result = result + NN[i]   # add the current number to the sum\n",
    "    i = i + 1                 # increment the index variable\n",
    "\n",
    "print('The result for sum is', result)   \n",
    "\n",
    "\n",
    "#Using while loop for multiplication\n",
    "\n",
    "NN = [1,2,3,4,5,6,7,8,9,10]   \n",
    "result = 1                   \n",
    "i = 0                        \n",
    "\n",
    "while i < len(NN):            \n",
    "    result = result * NN[i]  \n",
    "    i = i + 1 \n",
    "    \n",
    "print('The result for sum is', result)   \n"
   ]
  },
  {
   "cell_type": "code",
   "execution_count": 48,
   "id": "5995bc26-d1b9-4468-977d-38344b044a15",
   "metadata": {},
   "outputs": [
    {
     "name": "stdin",
     "output_type": "stream",
     "text": [
      "Enter unit charge here 88\n"
     ]
    },
    {
     "name": "stdout",
     "output_type": "stream",
     "text": [
      "The user will be charged Rs. 4.5 per unit\n"
     ]
    }
   ],
   "source": [
    "\"\"\"\n",
    "Q3. Create a python program to compute the electricity bill for a household.\n",
    "\n",
    "The per-unit charges in rupees are as follows: For the first 100 units, the user will be charged Rs. 4.5 per\n",
    "unit, for the next 100 units, the user will be charged Rs. 6 per unit, and for the next 100 units, the user will\n",
    "be charged Rs. 10 per unit, After 300 units and above the user will be charged Rs. 20 per unit.\n",
    "\"\"\"\n",
    "\n",
    "Unit_charge = int(input(\"Enter unit charge here\"))\n",
    "\n",
    "if Unit_charge in range(101):\n",
    "     print (\"The user will be charged Rs. 4.5 per unit\") \n",
    "if Unit_charge in range(101,200):\n",
    "     print (\"The user will be charged Rs. 6 per unit\")\n",
    "elif Unit_charge in range(300,10000):\n",
    "     print (\"The user will be charged Rs. 20 per unit\") \n",
    "\n",
    "\n",
    "        \n"
   ]
  },
  {
   "cell_type": "code",
   "execution_count": 20,
   "id": "85c129f0-ab78-40df-82f2-87cf06ce5cf8",
   "metadata": {},
   "outputs": [
    {
     "name": "stdout",
     "output_type": "stream",
     "text": [
      "Using for loop [2, 4, 5, 6, 8, 10, 12, 14, 15, 16, 18, 20, 22, 24, 25, 26, 28, 30, 32, 34, 35, 36, 38, 40, 42, 44, 45, 46, 48, 50, 52, 54, 55, 56, 58, 60, 62, 64, 65, 66, 68, 70, 72, 74, 75, 76, 78, 80, 82, 84, 85, 86, 88, 90, 92, 94, 95, 96, 98, 100]\n",
      "Using while loop [2, 4, 5, 6, 8, 10, 12, 14, 15, 16, 18, 20, 22, 24, 25, 26, 28, 30, 32, 34, 35, 36, 38, 40, 42, 44, 45, 46, 48, 50, 52, 54, 55, 56, 58, 60, 62, 64, 65, 66, 68, 70, 72, 74, 75, 76, 78, 80, 82, 84, 85, 86, 88, 90, 92, 94, 95, 96, 98, 100]\n"
     ]
    }
   ],
   "source": [
    "#Q4. Create a list of numbers from 1 to 100. Use for loop and while loop to calculate the cube of eachnumber and if the cube of that number is divisible by 4 or 5 then append that number in a list and print\n",
    "#that list.\n",
    "\n",
    "\"\"\"\n",
    "Step - 1 Create a list of numbers from 1 to 100 using range function\n",
    "Step - 2 Use for loop and while loop to calculate the cube of eachnumber\n",
    "Step - 3 If the cube of that number is divisible by 4 or 5 then append that number in a list\n",
    "\n",
    "\"\"\"\n",
    "#Using for loop\n",
    "\n",
    "numbers = list(range(1,101))\n",
    "cubes= []\n",
    "\n",
    "for num in numbers:\n",
    "    cube = num ** 3\n",
    "    if cube % 4 == 0 or cube % 5 == 0:\n",
    "        cubes.append(num)\n",
    "       \n",
    "print(\"Using for loop\", cubes)\n",
    "\n",
    "#Using while loop\n",
    "\n",
    "while num < len(numbers):\n",
    "    cube = num ** 3\n",
    "    if cube % 4 == 0 or cube % 5 == 0:\n",
    "        cubes.append(numbers[i])\n",
    "        \n",
    "print('Using while loop',cubes,)\n"
   ]
  },
  {
   "cell_type": "code",
   "execution_count": 4,
   "id": "564bb048-410b-4f68-b346-d59c12434dbb",
   "metadata": {},
   "outputs": [
    {
     "name": "stdout",
     "output_type": "stream",
     "text": [
      "a: 4\n",
      "e: 3\n",
      "i: 2\n",
      "o: 2\n",
      "u: 0\n"
     ]
    }
   ],
   "source": [
    "#Q5. Write a program to filter count vowels in the below-given string.\n",
    "#string = \"I want to become a data scientist\"\n",
    "\n",
    "vowels = ('a', 'e', 'i', 'o', 'u')\n",
    "S = \"I want to become a data scientist\"\n",
    "\n",
    "for vowel in vowels:\n",
    "    count = S.count(vowel)\n",
    "    print(vowel + ': ' + str(count)) #Here the str is used to convert the int into a str format to display"
   ]
  },
  {
   "cell_type": "code",
   "execution_count": null,
   "id": "07a8cba4-d4af-45b1-8d7a-a639ee09825e",
   "metadata": {},
   "outputs": [],
   "source": []
  }
 ],
 "metadata": {
  "kernelspec": {
   "display_name": "Python 3 (ipykernel)",
   "language": "python",
   "name": "python3"
  },
  "language_info": {
   "codemirror_mode": {
    "name": "ipython",
    "version": 3
   },
   "file_extension": ".py",
   "mimetype": "text/x-python",
   "name": "python",
   "nbconvert_exporter": "python",
   "pygments_lexer": "ipython3",
   "version": "3.10.8"
  }
 },
 "nbformat": 4,
 "nbformat_minor": 5
}
