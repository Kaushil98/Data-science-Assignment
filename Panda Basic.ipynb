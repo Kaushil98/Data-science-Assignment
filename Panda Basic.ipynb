{
 "cells": [
  {
   "cell_type": "code",
   "execution_count": 3,
   "id": "cec534ed-8022-4ec5-952d-50633ca50107",
   "metadata": {},
   "outputs": [
    {
     "name": "stdout",
     "output_type": "stream",
     "text": [
      "0     4\n",
      "1     8\n",
      "2    15\n",
      "3    16\n",
      "4    23\n",
      "5    42\n",
      "dtype: int64\n"
     ]
    }
   ],
   "source": [
    "#Q1. Create a Pandas Series that contains the following data: 4, 8, 15, 16, 23, and 42. Then, print the series.\n",
    "\n",
    "import pandas as pd\n",
    "\n",
    "a = [4,8,15,16,23,42]\n",
    "Numbers = pd.Series(a)\n",
    "print(Numbers)"
   ]
  },
  {
   "cell_type": "code",
   "execution_count": 8,
   "id": "3aeb7aa6-b47d-490a-b872-797a4fb49589",
   "metadata": {},
   "outputs": [
    {
     "name": "stdout",
     "output_type": "stream",
     "text": [
      "0      0\n",
      "1      1\n",
      "2      2\n",
      "3      3\n",
      "4      4\n",
      "5      5\n",
      "6      6\n",
      "7      7\n",
      "8      8\n",
      "9      9\n",
      "10    10\n",
      "dtype: int64 <class 'pandas.core.series.Series'>\n"
     ]
    }
   ],
   "source": [
    "#Q2. Create a variable of list type containing 10 elements in it, and apply pandas.Series function on the variable print it.\n",
    "\n",
    "import pandas as pd\n",
    "Numbers = list(range(0,11))\n",
    "Var = pd.Series(Numbers)\n",
    "print(Var, type(Var))"
   ]
  },
  {
   "cell_type": "code",
   "execution_count": 45,
   "id": "0cc54f2f-f3ed-485c-88dd-c9e7e282818b",
   "metadata": {},
   "outputs": [
    {
     "name": "stdout",
     "output_type": "stream",
     "text": [
      "     Name  Age  Gender\n",
      "0   Alice   25  Female\n",
      "1     Bob   30    Male\n",
      "2  Claire   27  Female\n"
     ]
    }
   ],
   "source": [
    "#Q3. Create a Pandas DataFrame that contains the following data:\n",
    "\n",
    "Data ={\n",
    "   \"Name\": [\"Alice\",\"Bob\",\"Claire\"],\n",
    "    \"Age\" : [25,30,27],\n",
    "    \"Gender\" : [\"Female\",\"Male\",\"Female\"]\n",
    "    }\n",
    "    \n",
    "df = pd.DataFrame(Data)\n",
    "print(df)"
   ]
  },
  {
   "cell_type": "code",
   "execution_count": 46,
   "id": "3916b299-51c9-4101-ac66-61f9e06db0f3",
   "metadata": {},
   "outputs": [
    {
     "data": {
      "text/plain": [
       "'\\nThe primary difference between a DataFrame and a Series is that a Series represents a single column of data,\\nwhereas a DataFrame can have multiple columns. Therefore, you can think of a DataFrame as a collection of Series objects. \\nA DataFrame can be seen as a table or a spreadsheet, while a Series can be seen as a single column or row in that table.\\n\\n'"
      ]
     },
     "execution_count": 46,
     "metadata": {},
     "output_type": "execute_result"
    }
   ],
   "source": [
    "#Q4. What is ‘DataFrame’ in pandas and how is it different from pandas.series? Explain with an example.\n",
    "\n",
    "\"\"\"\n",
    "The primary difference between a DataFrame and a Series is that a Series represents a single column of data,\n",
    "whereas a DataFrame can have multiple columns. Therefore, you can think of a DataFrame as a collection of Series objects. \n",
    "A DataFrame can be seen as a table or a spreadsheet, while a Series can be seen as a single column or row in that table.\n",
    "\n",
    "\"\"\""
   ]
  },
  {
   "cell_type": "code",
   "execution_count": 47,
   "id": "7abfea29-1bc0-41e3-bf04-e6d43b1660a3",
   "metadata": {},
   "outputs": [
    {
     "name": "stdout",
     "output_type": "stream",
     "text": [
      "     Name  Age  Gender\n",
      "0   Alice   25  Female\n",
      "1     Bob   30    Male\n",
      "2  Claire   27  Female\n"
     ]
    }
   ],
   "source": [
    "#Q5. What are some common functions you can use to manipulate data in a Pandas DataFrame? Can you give an example of when you might use one of these functions\n",
    "\n",
    "\"\"\"\n",
    "pd.DataFrame\n",
    "pd.Grouper\n",
    "pd.offsets\n",
    "pd.merge \n",
    "\n",
    "\"\"\"\n",
    "\n",
    "#Code for example\n",
    "\n",
    "Data ={\n",
    "   \"Name\": [\"Alice\",\"Bob\",\"Claire\"],\n",
    "    \"Age\" : [25,30,27],\n",
    "    \"Gender\" : [\"Female\",\"Male\",\"Female\"]\n",
    "    }\n",
    "    \n",
    "df = pd.DataFrame(Data)\n",
    "print(df)"
   ]
  },
  {
   "cell_type": "code",
   "execution_count": null,
   "id": "0af3971b-7099-4c07-89fc-8a3cfba445a3",
   "metadata": {},
   "outputs": [],
   "source": []
  }
 ],
 "metadata": {
  "kernelspec": {
   "display_name": "Python 3 (ipykernel)",
   "language": "python",
   "name": "python3"
  },
  "language_info": {
   "codemirror_mode": {
    "name": "ipython",
    "version": 3
   },
   "file_extension": ".py",
   "mimetype": "text/x-python",
   "name": "python",
   "nbconvert_exporter": "python",
   "pygments_lexer": "ipython3",
   "version": "3.10.8"
  }
 },
 "nbformat": 4,
 "nbformat_minor": 5
}
