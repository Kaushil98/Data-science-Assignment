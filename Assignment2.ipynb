{
 "cells": [
  {
   "cell_type": "code",
   "execution_count": 1,
   "id": "67a059cf-08dd-47d0-8f82-aa54e965eb9c",
   "metadata": {},
   "outputs": [
    {
     "name": "stdin",
     "output_type": "stream",
     "text": [
      "Put percentage here 54\n"
     ]
    },
    {
     "name": "stdout",
     "output_type": "stream",
     "text": [
      "GRADE D\n"
     ]
    }
   ],
   "source": [
    "#Task 1 - Write a code to accept percentage from the user and display grade according to the following input\n",
    "#>90 = A\n",
    "#>80 and <=90 = B\n",
    "#>= 60 and <= 80 = C\n",
    "#<60 = \n",
    "\n",
    "per = int(input(\"Put percentage here\"))\n",
    "\n",
    "if per > 90:\n",
    "    print(\"GRADE A\")\n",
    "elif per >=80 and per <=90:\n",
    "    print (\"GRADE B\")\n",
    "elif per >= 60 and per <= 80:\n",
    "    print (\"GRADE C\")\n",
    "elif per <60 and per>40 :\n",
    "    print (\"GRADE D\")\n",
    "    \n",
    "else:\n",
    "    print(\"You've Failed\" )"
   ]
  },
  {
   "cell_type": "code",
   "execution_count": 17,
   "id": "e2d1b25d-d049-4c8d-9957-24330755a87b",
   "metadata": {},
   "outputs": [
    {
     "name": "stdin",
     "output_type": "stream",
     "text": [
      "Enter the cost price of bike here 1485\n"
     ]
    },
    {
     "name": "stdout",
     "output_type": "stream",
     "text": [
      "Pay 5% Tax\n"
     ]
    }
   ],
   "source": [
    "\n",
    "#Task 2 - Write a program to accept the cost price of a bike and display the road tax to be paid according to the following criteria:\n",
    "\n",
    "#Tax 15% >100000\n",
    "#Tax 10% >50000 and <= 100000\n",
    "#Tax 5% <= 50000\n",
    "\n",
    "\n",
    "#To solve this task, you can take the following steps:\n",
    "#1. Accept the cost price of the bike as input from the user.\n",
    "#2. Check the cost price against the tax criteria and calculate the tax to be paid.\n",
    "#3. Display the road tax to be paid to the user.\n",
    "\n",
    "\n",
    "cost_price = int(input(\"Enter the cost price of bike here\"))\n",
    "\n",
    "if cost_price >100000:\n",
    "    print (\"Pay 15% Tax\")\n",
    "if cost_price >50000 and cost_price <= 100000:\n",
    "    print(\"Pay 10% Tax\")\n",
    "elif cost_price <= 50000:\n",
    "    print(\"Pay 5% Tax\")\n",
    "\n"
   ]
  },
  {
   "cell_type": "code",
   "execution_count": 4,
   "id": "84303ab4-cbd9-45ad-8c6d-ee5485d62512",
   "metadata": {},
   "outputs": [
    {
     "name": "stdin",
     "output_type": "stream",
     "text": [
      "Enter city name here Delhi\n"
     ]
    },
    {
     "name": "stdout",
     "output_type": "stream",
     "text": [
      " Red Fort\n"
     ]
    }
   ],
   "source": [
    "#Task-3 Accept any city from the user and display monuments of that city.\n",
    "\"\"\"\n",
    "Accept any city from the user and display monuments of that city:\n",
    "\n",
    "City   Monument\n",
    "Delhi  Red Fort\n",
    "Agra   Taj Mahal\n",
    "Jaipur Jal Mahal\n",
    "\n",
    "To solve this problem, you can take the following steps:\n",
    "1. Accept the name of a city as input\n",
    "2. Print the monument according to the input\n",
    "\n",
    "\"\"\"\n",
    "\n",
    "city = input(\"Enter city name here\")\n",
    "\n",
    "if city == 'Delhi' :\n",
    "    print(' Red Fort')\n",
    "elif city == 'Agra' :\n",
    "    print(' Taj Mahal')\n",
    "else:\n",
    "    print(' Jal Mahal')\n",
    "   "
   ]
  },
  {
   "cell_type": "code",
   "execution_count": 5,
   "id": "634dd4d1-45e8-4c63-8764-265079796359",
   "metadata": {},
   "outputs": [
    {
     "name": "stdin",
     "output_type": "stream",
     "text": [
      "Enter a number:  95\n"
     ]
    },
    {
     "name": "stdout",
     "output_type": "stream",
     "text": [
      "The number can be divided by 3, 3 times before it is less than or equal to 10.\n"
     ]
    }
   ],
   "source": [
    "#Task-4 Check how many times a given number can be divided by 3 before it is less than or equal to 10.\n",
    "\"\"\"\"\n",
    " 1) Step 1 is to write a code which will take input as a given number\n",
    " 2) Step 2 is the input number divided by number 3\n",
    " 3) Step is the output about the total count of time such that the output is less and equal to 10.\n",
    " \n",
    "\"\"\"\n",
    "num = int(input(\"Enter a number: \"))\n",
    "count = 0\n",
    "\n",
    "#Using a while loop here with a condition of num > 10 \n",
    "while num >= 10: \n",
    "    num = num / 3\n",
    "    count += 1\n",
    "\n",
    "print(\"The number can be divided by 3,\", count, \"times before it is less than or equal to 10.\")"
   ]
  },
  {
   "cell_type": "code",
   "execution_count": 19,
   "id": "901bfbe4-ecd5-47de-952a-49562e9b8886",
   "metadata": {},
   "outputs": [
    {
     "name": "stdout",
     "output_type": "stream",
     "text": [
      "1\n",
      "2\n",
      "3\n",
      "4\n",
      "Loop Break\n",
      "1\n",
      "2\n",
      "3\n",
      "4\n",
      "5\n",
      "6\n",
      "7\n",
      "8\n",
      "9\n",
      "10\n",
      "Done loop\n"
     ]
    }
   ],
   "source": [
    "#Task- 5 Why and When to Use while Loop in Python give a detailed description with example\n",
    "\n",
    "\"\"\"\"\n",
    "There are two types of loop function which are used to run a command in loop.\n",
    "For and while loop.\n",
    "\n",
    "For loop is used when a string, list and other data types where you want to work with data one by one with a condition implemented by you.\n",
    "While loop is also used with same datatypes but the code only runs if the given condition is true at first.\n",
    "\"\"\"\n",
    "\n",
    "#eg for loop with if function.\n",
    "\n",
    "n = [1,2,3,4,5,6]\n",
    "\n",
    "for i in n:\n",
    "    if i == 5:\n",
    "        break\n",
    "    print(i)\n",
    "print('Loop Break')\n",
    "\n",
    "#eg while loop function.\n",
    "\n",
    "A = 1\n",
    "\n",
    "while A<=10:\n",
    "    print(A)\n",
    "    A = A + 1\n",
    "print(\"Done loop\")\n",
    "\n",
    "   \n",
    "        "
   ]
  },
  {
   "cell_type": "code",
   "execution_count": 45,
   "id": "1d82f3a6-df04-4b3c-8c13-3363bf0b2a27",
   "metadata": {},
   "outputs": [
    {
     "name": "stdout",
     "output_type": "stream",
     "text": [
      "10\n",
      "9\n",
      "8\n",
      "7\n",
      "6\n",
      "5\n",
      "4\n",
      "3\n",
      "2\n",
      "1\n"
     ]
    }
   ],
   "source": [
    "#Task-7Reverse a while loop to display numbers from 10 to 1.\n",
    "\n",
    "\"\"\"\n",
    "1) Using the range function set a data set from number 1-10\n",
    "2) change that data set to list.\n",
    "3) Use while loop with indexing to reverse it\n",
    "4) Create a new var and store the reverse output.\n",
    "\"\"\"\n",
    "\n",
    "number = list(range(0,10))\n",
    "for i in (range(10,0,-1)):\n",
    "      print(i)\n",
    "ELSE        \t\t"
   ]
  },
  {
   "cell_type": "code",
   "execution_count": 31,
   "id": "1242a9a9-b5d5-49aa-9283-6c636695b08c",
   "metadata": {},
   "outputs": [
    {
     "data": {
      "text/plain": [
       "[0, 1, 2, 3, 4, 5, 6, 7, 8, 9, 10]"
      ]
     },
     "execution_count": 31,
     "metadata": {},
     "output_type": "execute_result"
    }
   ],
   "source": [
    "#Getting the list of numbers\n",
    "number "
   ]
  },
  {
   "cell_type": "code",
   "execution_count": 32,
   "id": "26718591-25d3-41ee-857a-417877f74a7b",
   "metadata": {},
   "outputs": [
    {
     "data": {
      "text/plain": [
       "[10, 9, 8, 7, 6, 5, 4, 3, 2, 1, 0]"
      ]
     },
     "execution_count": 32,
     "metadata": {},
     "output_type": "execute_result"
    }
   ],
   "source": [
    "number[::-1] "
   ]
  },
  {
   "cell_type": "code",
   "execution_count": 34,
   "id": "abfd48f7-639e-4b06-99cc-491017a0c357",
   "metadata": {},
   "outputs": [
    {
     "data": {
      "text/plain": [
       "[10, 9, 8, 7, 6, 5, 4, 3, 2, 1]"
      ]
     },
     "execution_count": 34,
     "metadata": {},
     "output_type": "execute_result"
    }
   ],
   "source": [
    "list((range(10,0,-1)))"
   ]
  },
  {
   "cell_type": "code",
   "execution_count": 43,
   "id": "bafbea44-eeef-4570-8611-9e0abb2b978a",
   "metadata": {},
   "outputs": [
    {
     "name": "stdout",
     "output_type": "stream",
     "text": [
      "10\n",
      "9\n",
      "8\n",
      "7\n",
      "6\n",
      "5\n",
      "4\n",
      "3\n",
      "2\n",
      "1\n"
     ]
    }
   ],
   "source": [
    "for i in (range(10,0,-1)):\n",
    "      print(i)\n",
    "  "
   ]
  },
  {
   "cell_type": "code",
   "execution_count": null,
   "id": "6b5f60cc-869c-4fae-a0de-ec0f9f5f306b",
   "metadata": {},
   "outputs": [],
   "source": []
  }
 ],
 "metadata": {
  "kernelspec": {
   "display_name": "Python 3 (ipykernel)",
   "language": "python",
   "name": "python3"
  },
  "language_info": {
   "codemirror_mode": {
    "name": "ipython",
    "version": 3
   },
   "file_extension": ".py",
   "mimetype": "text/x-python",
   "name": "python",
   "nbconvert_exporter": "python",
   "pygments_lexer": "ipython3",
   "version": "3.10.8"
  }
 },
 "nbformat": 4,
 "nbformat_minor": 5
}
