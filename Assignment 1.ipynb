1) Who developed python programming language?
- Python is widely used high level programming language which was initially designed by Guido van Rossum in 1991 by python software foundation. The application based work started in December 1989 at Centrum Wiskunde & Informatica (CWI) which is situated in the Netherlands.

2) Which type of programming does python support?
- Python is an interpreted programming language which support object, structured and functional programming all together.

3) Is python case sensitive when dealing with identifier?
- 
