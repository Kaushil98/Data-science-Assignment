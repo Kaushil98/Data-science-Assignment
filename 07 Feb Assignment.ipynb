{
 "cells": [
  {
   "cell_type": "code",
   "execution_count": 4,
   "id": "88a5410d-8675-4875-8318-754f61604e05",
   "metadata": {},
   "outputs": [],
   "source": [
    "'''\n",
    "Q1. You are writing code for a company. The requirement of the company is that you create a python\n",
    "function that will check whether the password entered by the user is correct or not. The function should\n",
    "take the password as input and return the string “Valid Password” if the entered password follows the\n",
    "below-given password guidelines else it should return “Invalid Password”.\n",
    "\n",
    "Note: 1. The Password should contain at least two uppercase letters and at least two lowercase letters.\n",
    "2. The Password should contain at least a number and three special characters.\n",
    "3. The length of the password should be 10 characters long.\n",
    "'''\n",
    "\n",
    "\n",
    "import re\n",
    "\n",
    "def check_password(password):\n",
    "    # Regular expression to match the password pattern\n",
    "    pattern = r'^(?=.*[A-Z].*[A-Z])(?=.*[a-z].*[a-z])(?=.*\\d)(?=.*[@$!%*?&])[A-Za-z\\d@$!%*?&]{10}$'\n",
    "\n",
    "    if re.match(pattern, password):\n",
    "        return \"Valid Password\"\n",
    "    else:\n",
    "        return \"Invalid Password\"\n"
   ]
  },
  {
   "cell_type": "code",
   "execution_count": 5,
   "id": "896b2b73-026f-4590-8685-1bd9cf4fc53c",
   "metadata": {},
   "outputs": [
    {
     "data": {
      "text/plain": [
       "'Invalid Password'"
      ]
     },
     "execution_count": 5,
     "metadata": {},
     "output_type": "execute_result"
    }
   ],
   "source": [
    "check_password(\"Abc123!@#\")"
   ]
  },
  {
   "cell_type": "code",
   "execution_count": 36,
   "id": "194d32d4-c1f9-455e-ae5a-4793a5c53cb0",
   "metadata": {},
   "outputs": [],
   "source": [
    "#Q2. Solve the below-given questions using at least one of the following:\n",
    "\n",
    "#(1) Check if the string starts with a particular letter\n",
    "\n",
    "   "
   ]
  },
  {
   "cell_type": "code",
   "execution_count": 47,
   "id": "78c44e7a-7270-456a-9932-d965459fad75",
   "metadata": {},
   "outputs": [
    {
     "name": "stdout",
     "output_type": "stream",
     "text": [
      "[('mango', 99), ('orange', 80), ('grapes', 1000)]\n"
     ]
    }
   ],
   "source": [
    "#(2) Sort a list of tuples having fruit names and their quantity. \n",
    "\n",
    "list1 = [(\"mango\",99),(\"orange\",80), (\"grapes\", 1000)]\n",
    "\n",
    "\n"
   ]
  },
  {
   "cell_type": "code",
   "execution_count": 65,
   "id": "9b1575d4-15f9-40a2-b213-7d86a2903a39",
   "metadata": {},
   "outputs": [
    {
     "data": {
      "text/plain": [
       "[0, 1, 4, 9, 16, 25, 36, 49, 64, 81, 100]"
      ]
     },
     "execution_count": 65,
     "metadata": {},
     "output_type": "execute_result"
    }
   ],
   "source": [
    "#(3)Find the squares of numbers from 1 to 10\n",
    "\n",
    "numbers = list(range(0,11))\n",
    "list(map(lambda x : x**2,numbers))"
   ]
  },
  {
   "cell_type": "code",
   "execution_count": 66,
   "id": "c7660006-5426-4336-aabf-d4743bc45b82",
   "metadata": {},
   "outputs": [
    {
     "data": {
      "text/plain": [
       "[0.0,\n",
       " 0.3333333333333333,\n",
       " 0.6666666666666666,\n",
       " 1.0,\n",
       " 1.3333333333333333,\n",
       " 1.6666666666666667,\n",
       " 2.0,\n",
       " 2.3333333333333335,\n",
       " 2.6666666666666665,\n",
       " 3.0,\n",
       " 3.3333333333333335]"
      ]
     },
     "execution_count": 66,
     "metadata": {},
     "output_type": "execute_result"
    }
   ],
   "source": [
    "#(4)Find the cube root of numbers from 1 to 10\n",
    "\n",
    "numbers = list(range(0,11))\n",
    "list(map(lambda x : x/3,numbers))"
   ]
  },
  {
   "cell_type": "code",
   "execution_count": 55,
   "id": "f1c49764-0fb0-4760-b5be-a3bbcb5764db",
   "metadata": {},
   "outputs": [
    {
     "name": "stdout",
     "output_type": "stream",
     "text": [
      "[True]\n"
     ]
    }
   ],
   "source": [
    "#(5)Check if a given number is even\n",
    "\n",
    "x = [14]\n",
    "\n",
    "y = list(map(lambda z : z%2==0,x))\n",
    "print(y)\n",
    "\n",
    "# Method 2\n",
    "def given_number(number):\n",
    "    \n",
    "    if number %2==0:\n",
    "        print(\"Number is even\")\n",
    "    else:\n",
    "        print(\"Number is odd\")\n",
    "        \n",
    "        \n",
    "        \n",
    "        "
   ]
  },
  {
   "cell_type": "code",
   "execution_count": 56,
   "id": "e94215fe-83f0-42e3-b484-0e0b989c5062",
   "metadata": {},
   "outputs": [
    {
     "name": "stdout",
     "output_type": "stream",
     "text": [
      "Number is odd\n"
     ]
    }
   ],
   "source": [
    "given_number(15)"
   ]
  },
  {
   "cell_type": "code",
   "execution_count": 38,
   "id": "1d1ce255-1060-4fa2-837c-7164d7612ef2",
   "metadata": {},
   "outputs": [
    {
     "name": "stdout",
     "output_type": "stream",
     "text": [
      "[1, 3, 5, 7, 9]\n"
     ]
    }
   ],
   "source": [
    "#(6)Filter odd numbers from the given list.\n",
    "\n",
    "\n",
    "\n",
    "numbers = [1,2,3,4,5,6,7,8,9,10]\n",
    "\n",
    "filtered = list(filter(lambda x : x%2 != 0,numbers))\n",
    "\n",
    "print(filtered)\n"
   ]
  },
  {
   "cell_type": "code",
   "execution_count": 57,
   "id": "2201a486-16ec-4525-956e-d5e610404944",
   "metadata": {},
   "outputs": [
    {
     "name": "stdout",
     "output_type": "stream",
     "text": [
      "[1, 2, 3, 4, 5, 6] [-1, -2, -3, -4, -5]\n"
     ]
    }
   ],
   "source": [
    "#(7)#Sort a list of integers into positive and negative integers lists.\n",
    "\n",
    "numbers = [1,2,3,4,5,6,-1,-2,-3,-4,-5,0]\n",
    "y = list(filter(lambda x : x>0,numbers))\n",
    "z = list(filter(lambda x : x<0,numbers))\n",
    "print(y,z)"
   ]
  },
  {
   "cell_type": "code",
   "execution_count": null,
   "id": "f7a4aa9b-c29b-4ec0-b5f8-844f2948c96a",
   "metadata": {},
   "outputs": [],
   "source": []
  }
 ],
 "metadata": {
  "kernelspec": {
   "display_name": "Python 3 (ipykernel)",
   "language": "python",
   "name": "python3"
  },
  "language_info": {
   "codemirror_mode": {
    "name": "ipython",
    "version": 3
   },
   "file_extension": ".py",
   "mimetype": "text/x-python",
   "name": "python",
   "nbconvert_exporter": "python",
   "pygments_lexer": "ipython3",
   "version": "3.10.8"
  }
 },
 "nbformat": 4,
 "nbformat_minor": 5
}
