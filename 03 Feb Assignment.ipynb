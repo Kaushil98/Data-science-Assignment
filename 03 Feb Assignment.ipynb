{
 "cells": [
  {
   "cell_type": "code",
   "execution_count": 112,
   "id": "2994322d-3d76-43e9-9ab3-c6d345338274",
   "metadata": {},
   "outputs": [],
   "source": [
    "#Q1. Which keyword is used to create a function? Create a function to return a list of odd numbers in the range of 1 to 25.\n",
    "\n",
    "\"\"\"\n",
    "'def keyword is used to create a function in python'\n",
    "\"\"\"\n",
    "\n",
    "\n",
    "#Code Using for loop\n",
    "\n",
    "numbers = list(range(0,25))\n",
    "\n",
    "def print_odd_numbers(self):\n",
    "    for num in numbers:\n",
    "        if num % 2 != 0:\n",
    "               print(num)\n",
    "               \n",
    "    return print(\"This are all the odd numbers\")        \n",
    "        "
   ]
  },
  {
   "cell_type": "code",
   "execution_count": 113,
   "id": "601678d0-ad99-4301-be64-07b0690560f4",
   "metadata": {},
   "outputs": [
    {
     "name": "stdout",
     "output_type": "stream",
     "text": [
      "1\n",
      "3\n",
      "5\n",
      "7\n",
      "9\n",
      "11\n",
      "13\n",
      "15\n",
      "17\n",
      "19\n",
      "21\n",
      "23\n",
      "This are all the odd numbers\n"
     ]
    }
   ],
   "source": [
    "print_odd_numbers(numbers)"
   ]
  },
  {
   "cell_type": "code",
   "execution_count": 114,
   "id": "6bc41388-446c-44dd-9d31-c8ed1b088060",
   "metadata": {},
   "outputs": [
    {
     "data": {
      "text/plain": [
       "[1, 3, 5, 7, 9, 11, 13, 15, 17, 19, 21, 23]"
      ]
     },
     "execution_count": 114,
     "metadata": {},
     "output_type": "execute_result"
    }
   ],
   "source": [
    "# Using filter function to find out the odd numbers\n",
    "\n",
    "numbers = list(range(0,25))\n",
    "\n",
    "list(filter(lambda num : num%2 != 0 , numbers))"
   ]
  },
  {
   "cell_type": "code",
   "execution_count": 115,
   "id": "931fd0f2-b6cc-4582-a725-6f8ecfebfafa",
   "metadata": {},
   "outputs": [
    {
     "ename": "SyntaxError",
     "evalue": "expression cannot contain assignment, perhaps you meant \"==\"? (2710235662.py, line 17)",
     "output_type": "error",
     "traceback": [
      "\u001b[0;36m  Cell \u001b[0;32mIn[115], line 17\u001b[0;36m\u001b[0m\n\u001b[0;31m    test_2('a' = [1,2,3,4,5], 'b' = 'kaushil', 'c' = 564.654)\u001b[0m\n\u001b[0m           ^\u001b[0m\n\u001b[0;31mSyntaxError\u001b[0m\u001b[0;31m:\u001b[0m expression cannot contain assignment, perhaps you meant \"==\"?\n"
     ]
    }
   ],
   "source": [
    "#Q2. Why *args and **kwargs is used in some functions? Create a function each for *args and **kwargs to demonstrate their use.\n",
    "\n",
    "\"\"\"\n",
    "*args and **kwargs are used in some function if multiple inputs are need in the def function\n",
    "\"\"\"\n",
    "#Code explaing *args\n",
    "def test_1(*args):\n",
    "    return args\n",
    "\n",
    "test_1(55*414,145,54154/854998)\n",
    "\n",
    "#Code explaing *kwargs\n",
    "\n",
    "def test_2(*kwargs):\n",
    "    return kwargs \n",
    "\n",
    "test_2('a' = [1,2,3,4,5], 'b' = 'kaushil', 'c' = 564.654)"
   ]
  },
  {
   "cell_type": "code",
   "execution_count": 116,
   "id": "f46c3afb-7de6-41ce-b59e-fb1cd65843f6",
   "metadata": {},
   "outputs": [],
   "source": [
    "#Q3. What is an iterator in python? Name the method used to initialise the iterator object and the method used for iteration.\n",
    "#Use these methods to print the first five elements of the given list [2, 4, 6, 8, 10, 12, 14,16, 18, 20].\n",
    "\n",
    "\"\"\"\n",
    "An iterator in Python is an object that can be iterated (looped) upon.\n",
    "Meaning that you can traverse through all the values contained in the iterator. \n",
    "It is used to represent a stream of data that can be processed one item at a time.\n",
    "\n",
    "In Python, the method used to initialize the iterator object is iter() and the method used for iteration is next().\n",
    "\"\"\"\n",
    "\n",
    "l = [2, 4, 6, 8, 10, 12, 14,16, 18, 20]\n",
    "l1 = iter(l)"
   ]
  },
  {
   "cell_type": "code",
   "execution_count": 117,
   "id": "4997d2e4-d209-48d7-86f7-f91cce5dcc10",
   "metadata": {},
   "outputs": [
    {
     "data": {
      "text/plain": [
       "2"
      ]
     },
     "execution_count": 117,
     "metadata": {},
     "output_type": "execute_result"
    }
   ],
   "source": [
    "next(l1)"
   ]
  },
  {
   "cell_type": "code",
   "execution_count": 118,
   "id": "7cdf70f6-b761-47ee-836b-47afddc4d34a",
   "metadata": {},
   "outputs": [
    {
     "data": {
      "text/plain": [
       "4"
      ]
     },
     "execution_count": 118,
     "metadata": {},
     "output_type": "execute_result"
    }
   ],
   "source": [
    "next(l1)"
   ]
  },
  {
   "cell_type": "code",
   "execution_count": 119,
   "id": "dffd7b75-69dc-400b-a520-e136eb49525f",
   "metadata": {},
   "outputs": [
    {
     "data": {
      "text/plain": [
       "6"
      ]
     },
     "execution_count": 119,
     "metadata": {},
     "output_type": "execute_result"
    }
   ],
   "source": [
    "next(l1)"
   ]
  },
  {
   "cell_type": "code",
   "execution_count": 39,
   "id": "0e38a98e-859b-44fe-9ffc-e47e50321e0e",
   "metadata": {},
   "outputs": [
    {
     "data": {
      "text/plain": [
       "8"
      ]
     },
     "execution_count": 39,
     "metadata": {},
     "output_type": "execute_result"
    }
   ],
   "source": [
    "next(l1)"
   ]
  },
  {
   "cell_type": "code",
   "execution_count": 40,
   "id": "2b1b0985-0a79-4c27-bea1-0f8f2d60eeae",
   "metadata": {},
   "outputs": [
    {
     "data": {
      "text/plain": [
       "10"
      ]
     },
     "execution_count": 40,
     "metadata": {},
     "output_type": "execute_result"
    }
   ],
   "source": [
    "next(l1)"
   ]
  },
  {
   "cell_type": "code",
   "execution_count": 120,
   "id": "2d4c249c-e049-41f1-918b-a4e4275cb2ed",
   "metadata": {},
   "outputs": [
    {
     "name": "stdout",
     "output_type": "stream",
     "text": [
      "1\n",
      "2\n",
      "3\n",
      "4\n",
      "5\n",
      "6\n",
      "7\n",
      "8\n",
      "9\n",
      "10\n",
      "11\n",
      "12\n",
      "13\n",
      "14\n"
     ]
    }
   ],
   "source": [
    "#Q4. What is a generator function in python? Why yield keyword is used? Give an example of a generator function.\n",
    "\n",
    "\"\"\"\n",
    "Generator function is used in python to generate an output based on the block of code. 'yield' is the keyword used to for generator function\n",
    "\"\"\"\n",
    "\n",
    "#Code for Generator function\n",
    "\n",
    "def generator(i):\n",
    "    count = 1\n",
    "    while count < i:\n",
    "        yield count\n",
    "        count = count + 1\n",
    "        \n",
    "Generate_numbers = generator(15)\n",
    "for i in Generate_numbers:\n",
    "    print(i)\n",
    "    "
   ]
  },
  {
   "cell_type": "code",
   "execution_count": 66,
   "id": "6a750725-8991-45fc-8431-cbf6aed67112",
   "metadata": {},
   "outputs": [],
   "source": [
    "#Q5. Create a generator function for prime numbers less than 1000. Use the next() method to print the first 20 prime numbers.\n",
    "\n",
    "\"\"\"\n",
    "Step 1 - Use generator function to print prime number less than 1000. \n",
    "Step 2 - Use nect() to print first 20 prime numbers\n",
    "\"\"\"\n",
    "\n",
    "k = list(range(0,1000))\n",
    "\n",
    "#Can't write the code. {:((}"
   ]
  },
  {
   "cell_type": "code",
   "execution_count": 69,
   "id": "fcdd0930-d11c-4a0a-b3e8-a1a491c864f8",
   "metadata": {},
   "outputs": [
    {
     "name": "stdin",
     "output_type": "stream",
     "text": [
      "Enter the rage of number for Fibonacci series 10\n"
     ]
    },
    {
     "name": "stdout",
     "output_type": "stream",
     "text": [
      "0\n",
      "1\n",
      "1\n",
      "2\n",
      "3\n",
      "5\n",
      "8\n",
      "13\n",
      "21\n",
      "34\n"
     ]
    }
   ],
   "source": [
    "#Q6. Write a python program to print the first 10 Fibonacci numbers using a while loop.\n",
    "\n",
    "Series = int(input(\"Enter the rage of number for Fibonacci series\"))\n",
    "a,b = 0,1\n",
    "counter = 0\n",
    "\n",
    "while counter < Series:\n",
    "    print(a)\n",
    "    c = a+b\n",
    "    a = b\n",
    "    b = c\n",
    "    counter = counter + 1\n",
    "    \n",
    "    \n"
   ]
  },
  {
   "cell_type": "code",
   "execution_count": 85,
   "id": "973c50ce-3184-4ed1-a5f4-ea1e6647541a",
   "metadata": {},
   "outputs": [
    {
     "data": {
      "text/plain": [
       "['p', 'w', 's', 'k', 'i', 'l', 'l', 's']"
      ]
     },
     "execution_count": 85,
     "metadata": {},
     "output_type": "execute_result"
    }
   ],
   "source": [
    "#Q7. Write a List Comprehension to iterate through the given string: ‘pwskills’.\n",
    "##Expected output: ['p', 'w', 's', 'k', 'i', 'l', 'l', 's']\n",
    "\n",
    "s1 = \"pwskills\"\n",
    "list(map(lambda s : s.lower(),s1))"
   ]
  },
  {
   "cell_type": "code",
   "execution_count": null,
   "id": "fe4b1d66-3474-45f4-8c1d-98ae271e49cf",
   "metadata": {},
   "outputs": [],
   "source": [
    "#Q8. Write a python program to check whether a given number is Palindrome or not using a while loop.\n",
    "\"\"\"\n",
    "#Can't write the code. {:((} , please help\n",
    "\"\"\""
   ]
  },
  {
   "cell_type": "code",
   "execution_count": 111,
   "id": "a401fa23-992d-482b-a8c3-122e99249093",
   "metadata": {},
   "outputs": [
    {
     "name": "stdout",
     "output_type": "stream",
     "text": [
      "1\n",
      "3\n",
      "5\n",
      "7\n",
      "9\n",
      "11\n",
      "13\n",
      "15\n",
      "17\n",
      "19\n",
      "21\n",
      "23\n",
      "25\n",
      "27\n",
      "29\n",
      "31\n",
      "33\n",
      "35\n",
      "37\n",
      "39\n",
      "41\n",
      "43\n",
      "45\n",
      "47\n",
      "49\n",
      "51\n",
      "53\n",
      "55\n",
      "57\n",
      "59\n",
      "61\n",
      "63\n",
      "65\n",
      "67\n",
      "69\n",
      "71\n",
      "73\n",
      "75\n",
      "77\n",
      "79\n",
      "81\n",
      "83\n",
      "85\n",
      "87\n",
      "89\n",
      "91\n",
      "93\n",
      "95\n",
      "97\n",
      "99\n"
     ]
    }
   ],
   "source": [
    "#Q9. Write a code to print odd numbers from 1 to 100 using list comprehension.\n",
    "\n",
    "number = list(range(0,100))\n",
    "odd_numbers = (i for i in number if i%2 !=0 ) #Condiition for the variable\n",
    "for i in odd_numbers:\n",
    "    print(i)"
   ]
  },
  {
   "cell_type": "code",
   "execution_count": 105,
   "id": "6aaddbcf-2ca3-43fd-b189-24a0fb21e4d4",
   "metadata": {},
   "outputs": [
    {
     "name": "stdout",
     "output_type": "stream",
     "text": [
      "3\n"
     ]
    }
   ],
   "source": []
  },
  {
   "cell_type": "code",
   "execution_count": null,
   "id": "c5a19d1c-62f0-46c1-991e-30c8f62556b6",
   "metadata": {},
   "outputs": [],
   "source": []
  }
 ],
 "metadata": {
  "kernelspec": {
   "display_name": "Python 3 (ipykernel)",
   "language": "python",
   "name": "python3"
  },
  "language_info": {
   "codemirror_mode": {
    "name": "ipython",
    "version": 3
   },
   "file_extension": ".py",
   "mimetype": "text/x-python",
   "name": "python",
   "nbconvert_exporter": "python",
   "pygments_lexer": "ipython3",
   "version": "3.10.8"
  }
 },
 "nbformat": 4,
 "nbformat_minor": 5
}
