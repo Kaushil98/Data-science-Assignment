{
 "cells": [
  {
   "cell_type": "code",
   "execution_count": 28,
   "id": "d365844c-43b9-483f-ac02-e14b4c85924c",
   "metadata": {},
   "outputs": [],
   "source": [
    "#Q1. Explain Class and Object with respect to Object-Oriented Programming. Give a suitable example.\n",
    "\n",
    "\"\"\"\n",
    "In object  - oriented programming, class and objects are use give block of code a structure and make the code more efficient and reusable by other people.\n",
    "Consider class as a main folder in which using def functions are used to execute code.\n",
    "Object is used to define the class so the functions in the class can be called and used.\n",
    "\"\"\"\n",
    "\n",
    "#Eg of class and object\n",
    "\n",
    "class Studentdetails: # Creating a class of Studentdetails\n",
    " \n",
    "        def welcome(self):#Creating a function of welcome\n",
    "          print (\"This is a new batch\")\n",
    "          print(\"Welcome to the class\")#code\n",
    "               "
   ]
  },
  {
   "cell_type": "code",
   "execution_count": 33,
   "id": "972ef650-57ea-4841-b0ac-9044038ce75f",
   "metadata": {},
   "outputs": [
    {
     "name": "stdout",
     "output_type": "stream",
     "text": [
      "This is a new batch\n",
      "Welcome to the class\n"
     ]
    }
   ],
   "source": [
    "Batch = Studentdetails() # Creating an object to call function\n",
    "Batch.welcome() # Calling function"
   ]
  },
  {
   "cell_type": "code",
   "execution_count": null,
   "id": "167bd555-1e88-4d8f-b1f4-0de547a46cf7",
   "metadata": {},
   "outputs": [],
   "source": [
    "#Q2. Name the four pillars of OOPs.\n",
    "\n",
    "\"\"\"\n",
    "The four pillar of OOPs concept are,\n",
    "1) Polymorphism \n",
    "2) Encapsulation\n",
    "3) Inheritance\n",
    "4) Abstraction\n",
    "\n",
    "\"\"\""
   ]
  },
  {
   "cell_type": "code",
   "execution_count": 63,
   "id": "08f0fb37-5776-47dc-8441-3db5d715160f",
   "metadata": {},
   "outputs": [
    {
     "data": {
      "text/plain": [
       "'Kaushilgaud'"
      ]
     },
     "execution_count": 63,
     "metadata": {},
     "output_type": "execute_result"
    }
   ],
   "source": [
    "#Q3. Explain why the __init__() function is used. Give a suitable example.\n",
    "\n",
    "\"\"\"\n",
    "\n",
    "The __init__() function in def function is used to give input to execute a block of code. \n",
    "It is other way of inputing data instead of int(input(\"Enter data here\"))\n",
    "\n",
    "\"\"\"\n",
    "\n",
    "#eg\n",
    "\n",
    "class Example: #Creating a Class\n",
    "    def __init__(self, name): #Making a function with __init__ to give an output with name\n",
    "        self.name = name\n",
    "                \n",
    "Input = Example(\"Kaushilgaud\") #Making an object and giving input as name\n",
    "Input.name #Calling the function"
   ]
  },
  {
   "cell_type": "code",
   "execution_count": 64,
   "id": "513205c2-03de-4388-bd64-58f5d334a9af",
   "metadata": {},
   "outputs": [
    {
     "data": {
      "text/plain": [
       "'\\nIn Object-Oriented Programming (OOP), the term \"self\" refers to a special variable that is used to refer to the instance of the class\\nthat is currently being accessed or operated on. It is used to access the attributes and methods of the instance.\\n'"
      ]
     },
     "execution_count": 64,
     "metadata": {},
     "output_type": "execute_result"
    }
   ],
   "source": [
    "#Q4. Why self is used in OOPs?\n",
    "\n",
    "\"\"\"\n",
    "In Object-Oriented Programming (OOP), the term \"self\" refers to a special variable that is used to refer to the instance of the class\n",
    "that is currently being accessed or operated on. It is used to access the attributes and methods of the instance.\n",
    "\"\"\""
   ]
  },
  {
   "cell_type": "code",
   "execution_count": 66,
   "id": "fe9e6b25-ef88-40df-acf8-89f04a7a5cf5",
   "metadata": {},
   "outputs": [],
   "source": [
    "#Q5. What is inheritance? Give an example for each type of inheritance.\n",
    "\n",
    "\"\"\"\n",
    "In OOPS concept, inheritance is one of the main pillars where a parent class functions are inherited to the student class.\n",
    "One class function can be used by other class.\n",
    "\n",
    "\"\"\"\n",
    "#Eg\n",
    "\n",
    "class test_1(): #Parent Class 1 \n",
    "    \n",
    "    def Class1(self):\n",
    "          print(\"This is from class 1\")\n",
    "  \n",
    "class test_2(): # Parent Class 2\n",
    "    \n",
    "    def Class2(self):\n",
    "        print(\"This is from class 2\")\n",
    "    \n",
    "    \n",
    "class test_3(test_1, test_2): # Child Class which inherit the parent class function\n",
    "    pass\n",
    "    "
   ]
  },
  {
   "cell_type": "code",
   "execution_count": 68,
   "id": "c5378497-df6c-4bef-bb3e-e3ba827ef326",
   "metadata": {},
   "outputs": [],
   "source": [
    "Inherit = test_3() #Defining an object"
   ]
  },
  {
   "cell_type": "code",
   "execution_count": 70,
   "id": "661a3449-8c56-4c03-8319-e6a2700c3883",
   "metadata": {},
   "outputs": [
    {
     "name": "stdout",
     "output_type": "stream",
     "text": [
      "This is from class 1\n"
     ]
    }
   ],
   "source": [
    "Inherit.Class1() #Calling the function from class 1"
   ]
  },
  {
   "cell_type": "code",
   "execution_count": 71,
   "id": "71f441f7-b200-4cd4-a774-60b19f32e251",
   "metadata": {},
   "outputs": [
    {
     "name": "stdout",
     "output_type": "stream",
     "text": [
      "This is from class 2\n"
     ]
    }
   ],
   "source": [
    "Inherit.Class2() #Calling the function from class 2"
   ]
  },
  {
   "cell_type": "code",
   "execution_count": null,
   "id": "168eb252-7bc2-4378-9344-5df951e195c1",
   "metadata": {},
   "outputs": [],
   "source": []
  }
 ],
 "metadata": {
  "kernelspec": {
   "display_name": "Python 3 (ipykernel)",
   "language": "python",
   "name": "python3"
  },
  "language_info": {
   "codemirror_mode": {
    "name": "ipython",
    "version": 3
   },
   "file_extension": ".py",
   "mimetype": "text/x-python",
   "name": "python",
   "nbconvert_exporter": "python",
   "pygments_lexer": "ipython3",
   "version": "3.10.8"
  }
 },
 "nbformat": 4,
 "nbformat_minor": 5
}
